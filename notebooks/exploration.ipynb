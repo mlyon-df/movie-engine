{
 "cells": [
  {
   "cell_type": "code",
   "execution_count": 5,
   "id": "61325af9",
   "metadata": {},
   "outputs": [
    {
     "name": "stdout",
     "output_type": "stream",
     "text": [
      "User Rating Activity Statistics for ML-32M Dataset:\n",
      "-------------------------------\n"
     ]
    },
    {
     "data": {
      "text/plain": [
       "count    200948.000000\n",
       "mean        159.246193\n",
       "std         282.025462\n",
       "min          20.000000\n",
       "25%          36.000000\n",
       "50%          73.000000\n",
       "75%         167.000000\n",
       "max       33332.000000\n",
       "dtype: float64"
      ]
     },
     "execution_count": 5,
     "metadata": {},
     "output_type": "execute_result"
    }
   ],
   "source": [
    "# Explore some statistics about user rating activity in the MovieLens datasets\n",
    "import csv\n",
    "import os\n",
    "import sys \n",
    "from typing import List\n",
    "\n",
    "import pandas as pd\n",
    "\n",
    "df = pd.read_csv('../movie-engine-data/raw/ml-32m/ratings.csv')\n",
    "\n",
    "rating_counts = df.groupby('userId').size()\n",
    "# Show summary statistics with a header that names the dataset as \"ML-32M\"\n",
    "print(\"User Rating Activity Statistics for ML-32M Dataset:\")\n",
    "print(\"-------------------------------\")\n",
    "rating_counts.describe()"
   ]
  }
 ],
 "metadata": {
  "kernelspec": {
   "display_name": ".venv",
   "language": "python",
   "name": "python3"
  },
  "language_info": {
   "codemirror_mode": {
    "name": "ipython",
    "version": 3
   },
   "file_extension": ".py",
   "mimetype": "text/x-python",
   "name": "python",
   "nbconvert_exporter": "python",
   "pygments_lexer": "ipython3",
   "version": "3.13.9"
  }
 },
 "nbformat": 4,
 "nbformat_minor": 5
}
